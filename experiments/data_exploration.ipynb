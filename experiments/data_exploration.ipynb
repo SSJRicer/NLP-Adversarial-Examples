{
 "cells": [
  {
   "cell_type": "code",
   "execution_count": null,
   "metadata": {},
   "outputs": [],
   "source": [
    "%load_ext autoreload\n",
    "%autoreload 2\n",
    "\n",
    "%matplotlib inline"
   ]
  },
  {
   "cell_type": "code",
   "execution_count": null,
   "metadata": {},
   "outputs": [],
   "source": [
    "import sys\n",
    "import os\n",
    "import warnings\n",
    "\n",
    "warnings.filterwarnings('ignore')\n",
    "sys.path.append(os.path.abspath(\"..\"))"
   ]
  },
  {
   "cell_type": "code",
   "execution_count": null,
   "metadata": {},
   "outputs": [],
   "source": [
    "import logging\n",
    "\n",
    "from pathlib import Path\n",
    "\n",
    "import pandas as pd\n",
    "\n",
    "import nltk\n",
    "\n",
    "import dataset as nlp_dataset\n",
    "\n",
    "from utils import io_utils, log_utils\n",
    "\n",
    "import importlib\n",
    "importlib.reload(logging)\n",
    "\n",
    "logger = logging.getLogger()\n",
    "log_utils.setup_logging()"
   ]
  },
  {
   "cell_type": "markdown",
   "metadata": {},
   "source": [
    "# CONSTANTS & HYPERPARAMETERS"
   ]
  },
  {
   "cell_type": "code",
   "execution_count": null,
   "metadata": {},
   "outputs": [],
   "source": [
    "DO_REMOVE_STOPWORDS   = False\n",
    "\n",
    "SKLEARN_TOKENIZER     = nltk.tokenize.WordPunctTokenizer()\n",
    "SKLEARN_STEMMER       = nltk.stem.PorterStemmer()\n",
    "\n",
    "MODELS_DIR            = Path(\"../model\")\n",
    "DATA_DIR              = Path(\"../data\")"
   ]
  },
  {
   "cell_type": "markdown",
   "metadata": {},
   "source": [
    "# DATA"
   ]
  },
  {
   "cell_type": "markdown",
   "metadata": {},
   "source": [
    "## LOAD THE DATASET + CLEAN"
   ]
  },
  {
   "cell_type": "markdown",
   "metadata": {},
   "source": [
    "## SET ASIDE VALIDATION/TEST DATASET"
   ]
  },
  {
   "cell_type": "code",
   "execution_count": null,
   "metadata": {},
   "outputs": [],
   "source": [
    "LOAD_DFS        = True\n",
    "DF_TRAIN_PATH   = DATA_DIR/\"huggingface_imdb_sentiment_df_train.p\"\n",
    "DF_TEST_PATH    = DATA_DIR/\"huggingface_imdb_sentiment_df_test.p\"\n",
    "\n",
    "if LOAD_DFS:\n",
    "    df_train    = pd.read_pickle(DF_TRAIN_PATH)\n",
    "    df_test     = pd.read_pickle(DF_TEST_PATH)\n",
    "else:\n",
    "    # Create train & test datasets\n",
    "    dfs = {}\n",
    "    for split in (\"train\", \"test\"):\n",
    "        df = nlp_dataset.create_dataframe(dataset_name=\"imdb\", dataset_split=split)\n",
    "        df = nlp_dataset.preprocess_dataframe(\n",
    "            df,\n",
    "            model_type            = \"sklearn\",\n",
    "            tokenizer             = SKLEARN_TOKENIZER,\n",
    "            stemmer               = SKLEARN_STEMMER,\n",
    "            do_remove_stopwords   = DO_REMOVE_STOPWORDS,\n",
    "            save_path             = DF_TRAIN_PATH if split == \"train\" else DF_TEST_PATH\n",
    "        )\n",
    "\n",
    "        # Add pre-processed token length column\n",
    "        tokened_text_len = [len(l) for l in df.tokened]\n",
    "        df.insert(df.columns.get_loc(\"tokened\")+1, column=\"tokened_len\", value=tokened_text_len)\n",
    "\n",
    "        dfs[split] = df\n",
    "\n",
    "    df_train, df_test = dfs[\"train\"], dfs[\"test\"]"
   ]
  },
  {
   "cell_type": "markdown",
   "metadata": {},
   "source": [
    "## Analyze data with descriptive statistics"
   ]
  },
  {
   "cell_type": "code",
   "execution_count": null,
   "metadata": {},
   "outputs": [],
   "source": [
    "df_train.head(3)"
   ]
  },
  {
   "cell_type": "code",
   "execution_count": null,
   "metadata": {},
   "outputs": [],
   "source": [
    "df_train.label_name.value_counts()"
   ]
  },
  {
   "cell_type": "code",
   "execution_count": null,
   "metadata": {},
   "outputs": [],
   "source": [
    "df_train[[\"text\", \"tokened_len\", \"label\"]].describe(include=\"all\")"
   ]
  },
  {
   "cell_type": "code",
   "execution_count": null,
   "metadata": {},
   "outputs": [],
   "source": [
    "df_test.head(3)"
   ]
  },
  {
   "cell_type": "code",
   "execution_count": null,
   "metadata": {},
   "outputs": [],
   "source": [
    "df_test.label_name.value_counts()"
   ]
  },
  {
   "cell_type": "code",
   "execution_count": null,
   "metadata": {},
   "outputs": [],
   "source": [
    "df_train[[\"text\", \"tokened_len\", \"label\"]].describe(include=\"all\")"
   ]
  },
  {
   "cell_type": "code",
   "execution_count": null,
   "metadata": {},
   "outputs": [],
   "source": [
    "# # User ratings (not sure where to go with this yet)\n",
    "# user_ratings_train = [re.search(r\"\\d*\\.*\\d+/10\", r) for r in df_train.review]\n",
    "# user_ratings_test  = [re.search(r\"\\d*\\.*\\d+/10\", r) for r in df_test.review]\n",
    "\n",
    "# # Making sure regex works for finding user rating (X/10)\n",
    "# [(i, re.match(\"(.*)/10\", ur.group()).groups()[0]) for i, ur in enumerate(user_ratings_train) if ur is not None]\n",
    "# # Checking user rating (found in text) against label\n",
    "# [(r, l) for r, l in zip(user_ratings_train, df_train.label_name) if r is not None]"
   ]
  },
  {
   "cell_type": "markdown",
   "metadata": {},
   "source": [
    "## Visualize data"
   ]
  },
  {
   "cell_type": "code",
   "execution_count": null,
   "metadata": {},
   "outputs": [],
   "source": [
    "# TODO"
   ]
  },
  {
   "cell_type": "code",
   "execution_count": null,
   "metadata": {},
   "outputs": [],
   "source": []
  }
 ],
 "metadata": {
  "kernelspec": {
   "display_name": "Python 3.9.7 ('py3_torch')",
   "language": "python",
   "name": "python3"
  },
  "language_info": {
   "codemirror_mode": {
    "name": "ipython",
    "version": 3
   },
   "file_extension": ".py",
   "mimetype": "text/x-python",
   "name": "python",
   "nbconvert_exporter": "python",
   "pygments_lexer": "ipython3",
   "version": "3.9.7"
  },
  "orig_nbformat": 4,
  "vscode": {
   "interpreter": {
    "hash": "cbabc5008b23dc2b4c6eacee9117731e32b5a3a2eb9a132d0221ab9f18e4139f"
   }
  }
 },
 "nbformat": 4,
 "nbformat_minor": 2
}
